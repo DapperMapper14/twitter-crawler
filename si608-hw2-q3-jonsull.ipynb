{
 "cells": [
  {
   "cell_type": "code",
   "execution_count": 1,
   "metadata": {
    "collapsed": true
   },
   "outputs": [],
   "source": [
    "# Import NetworkX and other packages\n",
    "import networkx as nx\n",
    "import matplotlib.pyplot as plt"
   ]
  },
  {
   "cell_type": "code",
   "execution_count": 2,
   "metadata": {
    "collapsed": false
   },
   "outputs": [],
   "source": [
    "def bowTie(g):\n",
    "    compsList = [set(c) for c in sorted(nx.strongly_connected_components(g), key=len)]\n",
    "    scc = compsList.pop()\n",
    "\n",
    "    inTie = []\n",
    "    outTie = []\n",
    "    for c in compsList:\n",
    "\n",
    "        # Find \"IN\" nodes by finding out_edges matches from components and SCC\n",
    "        outEdges = g.out_edges(c)\n",
    "        if len(outEdges) > 0:\n",
    "            #inSources = [t[0] for t in outEdges]\n",
    "            inTargets = [t[1] for t in outEdges]\n",
    "            sccTargets = list(set(inTargets).intersection(scc))\n",
    "            inTie.append([t[0] for t in outEdges if t[1] in sccTargets])\n",
    "            #print (\"IN: \", inTargets, sccTargets, outEdges)\n",
    "\n",
    "        else:\n",
    "            pass\n",
    "\n",
    "        # Find \"OUT\" nodes by finding in_edges matches from components and SCC\n",
    "        inEdges = g.in_edges(c)\n",
    "        if len(inEdges) > 0:\n",
    "            outSources = [t[0] for t in inEdges]\n",
    "            sccSources = list(set(outSources).intersection(scc))\n",
    "            outTie.append([t[1] for t in inEdges if t[0] in sccSources])\n",
    "            #print (\"OUT: \", outSources, sccSources, inEdges)\n",
    "        else:\n",
    "            pass\n",
    "\n",
    "    inFinal = [val for sublist in inTie for val in sublist]\n",
    "    outFinal = [val for sublist in outTie for val in sublist]\n",
    "    return {\"inTie\":inFinal, \n",
    "            \"outTie\": outFinal, \n",
    "            \"scc\":list(scc)}\n",
    "\n",
    "def bowTieCompSizes (bowTieOutput):\n",
    "    # Calculate lengths of bowTie parts\n",
    "    return {\"inTie_Length\": len(bowTieOutput[\"inTie\"]), \n",
    "            \"outTie_Length\": len(bowTieOutput[\"outTie\"]), \n",
    "            \"scc_Length\":len(bowTieOutput[\"scc\"])}"
   ]
  },
  {
   "cell_type": "code",
   "execution_count": 3,
   "metadata": {
    "collapsed": false
   },
   "outputs": [
    {
     "name": "stdout",
     "output_type": "stream",
     "text": [
      "{'inTie': [308, 317, 319, 321, 323, 331, 338, 342, 343, 347, 351, 355, 362, 367, 368, 378, 380, 381, 382, 385, 387, 393, 394], 'outTie': [313, 307, 395, 314, 316, 365, 360, 346, 344, 370, 312, 377, 371, 353, 366, 322, 310, 320, 305, 302, 306, 334, 341, 374, 318, 339, 399, 369, 356, 335, 337, 326, 311, 379, 324, 396, 348], 'scc': [1, 3, 7, 8, 9, 10, 11, 13, 14, 15, 16, 17, 18, 19, 21, 22, 23, 25, 26, 27, 28, 29, 31, 32, 33, 36, 40, 41, 43, 44, 45, 47, 48, 49, 50, 51, 52, 53, 55, 56, 57, 61, 64, 65, 66, 68, 69, 70, 72, 74, 75, 77, 80, 82, 83, 85, 90, 91, 92, 95, 96, 97, 98]}\n",
      "{'inTie_Length': 23, 'outTie_Length': 37, 'scc_Length': 63}\n"
     ]
    }
   ],
   "source": [
    "bowTieGraph = nx.read_gml(\"BowTie.gml\")\n",
    "\n",
    "bowTieComps = bowTie(bowTieGraph)\n",
    "print bowTieComps\n",
    "\n",
    "bowTieSizes = bowTieCompSizes(bowTieComps)\n",
    "print bowTieSizes"
   ]
  },
  {
   "cell_type": "code",
   "execution_count": 132,
   "metadata": {
    "collapsed": false
   },
   "outputs": [],
   "source": [
    "#nx.set_node_attributes(bowTieGraph, \"bowTiePart\", bowTieComps)\n",
    "\n",
    "#color_map = {'type_A':'b', 'type_B':'#FF0099', 'type_C':'#660066'}\n",
    "\n",
    "#draw_networkx(bowTieGraph, with_labels=True)"
   ]
  },
  {
   "cell_type": "code",
   "execution_count": null,
   "metadata": {
    "collapsed": true
   },
   "outputs": [],
   "source": []
  }
 ],
 "metadata": {
  "anaconda-cloud": {},
  "kernelspec": {
   "display_name": "Python [Root]",
   "language": "python",
   "name": "Python [Root]"
  },
  "language_info": {
   "codemirror_mode": {
    "name": "ipython",
    "version": 2
   },
   "file_extension": ".py",
   "mimetype": "text/x-python",
   "name": "python",
   "nbconvert_exporter": "python",
   "pygments_lexer": "ipython2",
   "version": "2.7.12"
  }
 },
 "nbformat": 4,
 "nbformat_minor": 0
}
