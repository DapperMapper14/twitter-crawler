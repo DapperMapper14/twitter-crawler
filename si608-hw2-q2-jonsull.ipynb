{
 "cells": [
  {
   "cell_type": "code",
   "execution_count": 43,
   "metadata": {
    "collapsed": false
   },
   "outputs": [],
   "source": [
    "import numpy as np\n",
    "import pandas as pd\n",
    "import networkx as nx\n",
    "\n",
    "from scipy import stats"
   ]
  },
  {
   "cell_type": "code",
   "execution_count": 44,
   "metadata": {
    "collapsed": false
   },
   "outputs": [],
   "source": [
    "# Define functions\n",
    "def graphStats(g):\n",
    "    #Determine number of components\n",
    "    gComps = [set(c) for c in sorted(nx.connected_component_subgraphs(g), key=len)]\n",
    "    nComps = len(gComps)\n",
    "    \n",
    "    #Find the largest component and determine the % size based on nodes\n",
    "    gLargest = max(nx.connected_component_subgraphs(g), key=len)\n",
    "    percSize = float(len(gLargest.nodes()))/len(g.nodes())\n",
    "    \n",
    "    # Calculate diameter\n",
    "    d = float(nx.diameter(gLargest))\n",
    "    \n",
    "    #Calculate averages shortest path\n",
    "    asp = nx.average_shortest_path_length(gLargest)\n",
    "    \n",
    "    #Average Degree\n",
    "    deg = [float(g.degree(a)) for a in g.nodes()] \n",
    "    avgDeg = np.mean(deg)\n",
    "    \n",
    "    # Clustering coefficient\n",
    "    cc = nx.average_clustering(g)\n",
    "    \n",
    "    # Return stats\n",
    "    return pd.DataFrame([nComps, percSize, d, asp, avgDeg, cc],\n",
    "                     [\"nComps\", \"percSize\", \"diameter\", \"asp\", \"avgDeg\",\"cc\"])\n",
    "\n",
    "def confIntMean(a, conf=0.95):\n",
    "  mean, sem, m = np.mean(a), stats.sem(a), stats.t.ppf((1+conf)/2., len(a)-1)\n",
    "  return mean - m*sem, mean + m*sem "
   ]
  },
  {
   "cell_type": "code",
   "execution_count": 45,
   "metadata": {
    "collapsed": false
   },
   "outputs": [],
   "source": [
    "# Create a random erdos-renyi graphs and tabulate stats \n",
    "dataFrames = []\n",
    "for i in range(0,1000):\n",
    "    erGraph = nx.erdos_renyi_graph(100, 0.02)\n",
    "    graphMetrics = graphStats(erGraph)\n",
    "    dataFrames.append(graphMetrics)\n",
    "\n",
    "finalResults = pd.concat(dataFrames, axis=1).T"
   ]
  },
  {
   "cell_type": "code",
   "execution_count": 46,
   "metadata": {
    "collapsed": false
   },
   "outputs": [
    {
     "name": "stdout",
     "output_type": "stream",
     "text": [
      "{'diameter': (13.437063254303331, 13.738936745696668), 'avgDeg': (1.960433061608168, 1.9846069383918321), 'asp': (5.6435460347269784, 5.7355809763078343), 'cc': (0.010675410155043159, 0.012093193019560012), 'nComps': (17.201275082993835, 17.774724917006164), 'percSize': (0.7805486677200949, 0.79017133227990499)}\n"
     ]
    }
   ],
   "source": [
    "# Calculate confidence intervals\n",
    "ciDict = {}\n",
    "graphMetrics = [\"nComps\", \"percSize\", \"diameter\", \"asp\", \"avgDeg\",\"cc\"]\n",
    "for g in graphMetrics:\n",
    "    a = finalResults[g].as_matrix()\n",
    "    ci = confIntMean(a, conf=0.95)\n",
    "    ciDict[g] = ci\n",
    "\n",
    "print ciDict"
   ]
  },
  {
   "cell_type": "code",
   "execution_count": 47,
   "metadata": {
    "collapsed": false
   },
   "outputs": [
    {
     "name": "stdout",
     "output_type": "stream",
     "text": [
      "('Nodes:', 388)\n",
      "('Edges:', 3598)\n",
      "('# Components:', 20)\n",
      "('Largest Component Nodes:', 350)\n",
      "('% Largest Component:', 0.9020618556701031)\n",
      "('Graph Stats',                   0\n",
      "nComps     1.000000\n",
      "percSize   1.000000\n",
      "diameter   8.000000\n",
      "asp        2.783856\n",
      "avgDeg    19.954286\n",
      "cc         0.491352)\n"
     ]
    }
   ],
   "source": [
    "lada = nx.read_pajek(\"LadaFacebookAnon.net\")\n",
    "lada = nx.Graph(lada) \n",
    "\n",
    "#Nodes\n",
    "print(\"Nodes:\", len(lada.nodes()))\n",
    "\n",
    "#Edges\n",
    "print(\"Edges:\", len(lada.edges()))\n",
    "\n",
    "#Largest Component\n",
    "ladaComponents = [set(c) for c in sorted(nx.connected_component_subgraphs(lada), key=len)]\n",
    "ladaLargest = max(nx.connected_component_subgraphs(lada), key=len)\n",
    "print(\"# Components:\", len(ladaComponents))\n",
    "print(\"Largest Component Nodes:\", len(ladaLargest.nodes()))\n",
    "print(\"% Largest Component:\", len(ladaLargest.nodes())/float(len(lada.nodes())))\n",
    "\n",
    "# Graph Stats\n",
    "print(\"Graph Stats\", graphStats(ladaLargest))"
   ]
  },
  {
   "cell_type": "code",
   "execution_count": 48,
   "metadata": {
    "collapsed": false
   },
   "outputs": [
    {
     "name": "stdout",
     "output_type": "stream",
     "text": [
      "('ER Graph Nodes', 350)\n",
      "('ER Graph Edges', 3327)\n"
     ]
    }
   ],
   "source": [
    "# Define parameters for ER Graph to be similar to Lada graph\n",
    "erGraph = nx.erdos_renyi_graph(350, 0.056)\n",
    "print(\"ER Graph Nodes\", len(erGraph.nodes()))\n",
    "print(\"ER Graph Edges\", len(erGraph.edges()))"
   ]
  },
  {
   "cell_type": "code",
   "execution_count": 49,
   "metadata": {
    "collapsed": false
   },
   "outputs": [
    {
     "name": "stdout",
     "output_type": "stream",
     "text": [
      "('SW Graph Nodes', 350)\n",
      "('SW Graph Edges', 3500)\n"
     ]
    }
   ],
   "source": [
    "# Define parameters for Watts Strogatz Graph to be similar to Lada graph\n",
    "swGraph = nx.watts_strogatz_graph(n=350, k=20, p=0.2)\n",
    "print(\"SW Graph Nodes\", len(swGraph.nodes()))\n",
    "print(\"SW Graph Edges\", len(swGraph.edges()))"
   ]
  },
  {
   "cell_type": "code",
   "execution_count": 50,
   "metadata": {
    "collapsed": false
   },
   "outputs": [
    {
     "name": "stdout",
     "output_type": "stream",
     "text": [
      "('BA Graph Nodes', 350)\n",
      "('BA Graph Edges', 3400)\n"
     ]
    }
   ],
   "source": [
    "# Define parameters for Barabasi Albert Graph to be similar to Lada graph\n",
    "baGraph = nx.barabasi_albert_graph(n=350, m=10)\n",
    "print(\"BA Graph Nodes\", len(baGraph.nodes()))\n",
    "print(\"BA Graph Edges\", len(baGraph.edges()))"
   ]
  },
  {
   "cell_type": "code",
   "execution_count": 51,
   "metadata": {
    "collapsed": false
   },
   "outputs": [],
   "source": [
    "# Create a Erdos-Renyi Graphs and tabulate stats \n",
    "erDF = []\n",
    "for i in range(0,1000):\n",
    "    erGraph = nx.erdos_renyi_graph(350, 0.056)\n",
    "    erMetrics = graphStats(erGraph)\n",
    "    erDF.append(erMetrics)\n",
    "\n",
    "erResults = pd.concat(erDF, axis=1).T"
   ]
  },
  {
   "cell_type": "code",
   "execution_count": 52,
   "metadata": {
    "collapsed": false
   },
   "outputs": [
    {
     "name": "stdout",
     "output_type": "stream",
     "text": [
      "{'diameter': (3.2793370925578689, 3.3366629074421308), 'avgDeg': (19.526434808329725, 19.56699376309885), 'asp': (2.2595430661491775, 2.2611472654103801), 'cc': (0.055862082378210373, 0.056085377775375492), 'nComps': (1.0, 1.0), 'percSize': (1.0, 1.0)}\n"
     ]
    }
   ],
   "source": [
    "# Calculate confidence intervals of Erdos-Renyi graphs\n",
    "erCIDict = {}\n",
    "col = [\"nComps\", \"percSize\", \"diameter\", \"asp\", \"avgDeg\",\"cc\"]\n",
    "for c in col:\n",
    "    a = erResults[c].as_matrix()\n",
    "    ci = confIntMean(a, conf=0.95)\n",
    "    erCIDict[c] = ci\n",
    "\n",
    "print erCIDict"
   ]
  },
  {
   "cell_type": "code",
   "execution_count": 53,
   "metadata": {
    "collapsed": false
   },
   "outputs": [
    {
     "name": "stdout",
     "output_type": "stream",
     "text": [
      "{'diameter': (4.0, 4.0), 'avgDeg': (20.0, 20.0), 'asp': (2.5171327947801956, 2.5181753018223416), 'cc': (0.37923974374758829, 0.3803811619755223), 'nComps': (1.0, 1.0), 'percSize': (1.0, 1.0)}\n"
     ]
    }
   ],
   "source": [
    "# Create a random  Watts Strogatz Graph and tabulate stats \n",
    "swDF = []\n",
    "for i in range(0,1000):\n",
    "    swGraph = nx.watts_strogatz_graph(n=350, k=20, p=0.2)\n",
    "    swMetrics = graphStats(swGraph)\n",
    "    swDF.append(swMetrics)\n",
    "\n",
    "swResults = pd.concat(swDF, axis=1).T\n",
    "\n",
    "# Calculate confidence intervals\n",
    "swCIDict = {}\n",
    "col = [\"nComps\", \"percSize\", \"diameter\", \"asp\", \"avgDeg\",\"cc\"]\n",
    "for c in col:\n",
    "    a = swResults [c].as_matrix()\n",
    "    ci = confIntMean(a, conf=0.95)\n",
    "    swCIDict[c] = ci\n",
    "\n",
    "print swCIDict"
   ]
  },
  {
   "cell_type": "code",
   "execution_count": 54,
   "metadata": {
    "collapsed": false
   },
   "outputs": [
    {
     "name": "stdout",
     "output_type": "stream",
     "text": [
      "{'diameter': (3.1315902311098172, 3.1764097688901827), 'avgDeg': (19.428571428571427, 19.428571428571427), 'asp': (2.2370793074619959, 2.2379871190627689), 'cc': (0.12507790425858767, 0.12575040221147787), 'nComps': (1.0, 1.0), 'percSize': (1.0, 1.0)}\n"
     ]
    }
   ],
   "source": [
    "# Create a random  Barabasi Albert Graph and tabulate stats \n",
    "baDF = []\n",
    "for i in range(0,1000):\n",
    "    baGraph = nx.barabasi_albert_graph(n=350, m=10)\n",
    "    baMetrics = graphStats(baGraph)\n",
    "    baDF.append(baMetrics)\n",
    "\n",
    "baResults = pd.concat(baDF, axis=1).T\n",
    "\n",
    "# Calculate confidence intervals\n",
    "baCIDict = {}\n",
    "col = [\"nComps\", \"percSize\", \"diameter\", \"asp\", \"avgDeg\",\"cc\"]\n",
    "for c in col:\n",
    "    a = baResults[c].as_matrix()\n",
    "    ci = confIntMean(a, conf=0.95)\n",
    "    baCIDict[c] = ci\n",
    "\n",
    "print baCIDict"
   ]
  },
  {
   "cell_type": "code",
   "execution_count": null,
   "metadata": {
    "collapsed": true
   },
   "outputs": [],
   "source": []
  }
 ],
 "metadata": {
  "anaconda-cloud": {},
  "kernelspec": {
   "display_name": "Python [Root]",
   "language": "python",
   "name": "Python [Root]"
  },
  "language_info": {
   "codemirror_mode": {
    "name": "ipython",
    "version": 2
   },
   "file_extension": ".py",
   "mimetype": "text/x-python",
   "name": "python",
   "nbconvert_exporter": "python",
   "pygments_lexer": "ipython2",
   "version": "2.7.12"
  }
 },
 "nbformat": 4,
 "nbformat_minor": 0
}
